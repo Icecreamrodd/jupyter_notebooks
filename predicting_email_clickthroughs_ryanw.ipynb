{
 "cells": [
  {
   "attachments": {},
   "cell_type": "markdown",
   "metadata": {},
   "source": [
    "## Executive Summary\n",
    "- A decision tree model was trained to determine if a user would click-through an email or not when given the day of week and hour of day the email was sent along with the users age and gender\n",
    "- The goal of the model was to maximize the true positives (predicted click-throughs that match actual click-throughs) while maintaining an overall accuracy threshold (can't just predict everyone to click-through)  \n",
    "- The trained model performed exceptionally well on the test set: 100% accuracy and 100% recall (true positive rate).  This would normally be a red flag, but the patterns in this data set are so uniform and the small number of records make it possible to predict the test set precisely\n",
    "- Once the model was trained on all the predictor variables, we then applied a brute force method to evaluate the probability of a click-through for all combinations of age, gender, send hour, and send day, while only knowing the users age and gender\n",
    "- The outputs of this model match our expectations from the patterns seen in the data\n",
    "- To run new users through the model you can input age and gender as the first two parameters into the evaluate_options function at the end of the notebook \n"
   ]
  },
  {
   "cell_type": "markdown",
   "metadata": {},
   "source": [
    "## Start with some exploritory analysis"
   ]
  },
  {
   "cell_type": "markdown",
   "metadata": {},
   "source": [
    "**Note:** To install the required packages, uncomment and run the below cell, if the required packages are already installed on your jupyter instance you can skip this step"
   ]
  },
  {
   "cell_type": "code",
   "execution_count": 2,
   "metadata": {
    "scrolled": false
   },
   "outputs": [],
   "source": [
    "# import sys\n",
    "# !{sys.executable} -m pip install numpy pandas matplotlib sklearn"
   ]
  },
  {
   "cell_type": "code",
   "execution_count": 3,
   "metadata": {
    "scrolled": true
   },
   "outputs": [],
   "source": [
    "import matplotlib.pyplot as plt\n",
    "import numpy as np\n",
    "import pandas as pd\n",
    "\n",
    "from sklearn import metrics\n",
    "from sklearn import tree\n",
    "from sklearn.tree import DecisionTreeClassifier\n",
    "from sklearn.model_selection import train_test_split\n",
    "\n",
    "%matplotlib inline"
   ]
  },
  {
   "cell_type": "code",
   "execution_count": 4,
   "metadata": {},
   "outputs": [
    {
     "name": "stdout",
     "output_type": "stream",
     "text": [
      "  userId sendDay  sendHour  clickThrough\n",
      "0    ym1  Monday         6          True\n",
      "1    ym2  Monday         6          True\n",
      "2    ym3  Monday         6          True\n",
      "3    om1  Monday         6         False\n",
      "4    om2  Monday         6         False\n",
      "  userId gender  age  accountBalance\n",
      "0    ym1   male   10             500\n",
      "1    ym2   male   20             100\n",
      "2    ym3   male   25             700\n",
      "3    om1   male   35             800\n",
      "4    om2   male   40              50\n"
     ]
    }
   ],
   "source": [
    "# read in the data and preview it\n",
    "df_email_sends = pd.read_csv('/Users/ryan/Documents/email_sends.csv')\n",
    "df_user_profiles = pd.read_csv('/Users/ryan/Documents/user_profiles.csv')\n",
    "\n",
    "print(df_email_sends.head())\n",
    "print(df_user_profiles.head())"
   ]
  },
  {
   "cell_type": "code",
   "execution_count": 5,
   "metadata": {
    "scrolled": true
   },
   "outputs": [
    {
     "name": "stdout",
     "output_type": "stream",
     "text": [
      "userId          object\n",
      "sendDay         object\n",
      "sendHour         int64\n",
      "clickThrough      bool\n",
      "dtype: object\n",
      "userId            object\n",
      "gender            object\n",
      "age                int64\n",
      "accountBalance     int64\n",
      "dtype: object\n"
     ]
    }
   ],
   "source": [
    "# confirm the data types are as expected\n",
    "print(df_email_sends.dtypes)\n",
    "print(df_user_profiles.dtypes)"
   ]
  },
  {
   "cell_type": "code",
   "execution_count": 10,
   "metadata": {
    "scrolled": true
   },
   "outputs": [
    {
     "name": "stdout",
     "output_type": "stream",
     "text": [
      "The shape of our data set is (48, 6)\n"
     ]
    },
    {
     "data": {
      "text/html": [
       "<div>\n",
       "<style scoped>\n",
       "    .dataframe tbody tr th:only-of-type {\n",
       "        vertical-align: middle;\n",
       "    }\n",
       "\n",
       "    .dataframe tbody tr th {\n",
       "        vertical-align: top;\n",
       "    }\n",
       "\n",
       "    .dataframe thead th {\n",
       "        text-align: right;\n",
       "    }\n",
       "</style>\n",
       "<table border=\"1\" class=\"dataframe\">\n",
       "  <thead>\n",
       "    <tr style=\"text-align: right;\">\n",
       "      <th></th>\n",
       "      <th>userId</th>\n",
       "      <th>sendDay</th>\n",
       "      <th>sendHour</th>\n",
       "      <th>clickThrough</th>\n",
       "      <th>gender</th>\n",
       "      <th>age</th>\n",
       "    </tr>\n",
       "  </thead>\n",
       "  <tbody>\n",
       "    <tr>\n",
       "      <th>0</th>\n",
       "      <td>ym1</td>\n",
       "      <td>Monday</td>\n",
       "      <td>6</td>\n",
       "      <td>True</td>\n",
       "      <td>male</td>\n",
       "      <td>10</td>\n",
       "    </tr>\n",
       "    <tr>\n",
       "      <th>1</th>\n",
       "      <td>ym1</td>\n",
       "      <td>Monday</td>\n",
       "      <td>18</td>\n",
       "      <td>False</td>\n",
       "      <td>male</td>\n",
       "      <td>10</td>\n",
       "    </tr>\n",
       "    <tr>\n",
       "      <th>2</th>\n",
       "      <td>ym1</td>\n",
       "      <td>Friday</td>\n",
       "      <td>6</td>\n",
       "      <td>False</td>\n",
       "      <td>male</td>\n",
       "      <td>10</td>\n",
       "    </tr>\n",
       "    <tr>\n",
       "      <th>3</th>\n",
       "      <td>ym1</td>\n",
       "      <td>Friday</td>\n",
       "      <td>18</td>\n",
       "      <td>False</td>\n",
       "      <td>male</td>\n",
       "      <td>10</td>\n",
       "    </tr>\n",
       "    <tr>\n",
       "      <th>4</th>\n",
       "      <td>ym2</td>\n",
       "      <td>Monday</td>\n",
       "      <td>6</td>\n",
       "      <td>True</td>\n",
       "      <td>male</td>\n",
       "      <td>20</td>\n",
       "    </tr>\n",
       "    <tr>\n",
       "      <th>5</th>\n",
       "      <td>ym2</td>\n",
       "      <td>Monday</td>\n",
       "      <td>18</td>\n",
       "      <td>False</td>\n",
       "      <td>male</td>\n",
       "      <td>20</td>\n",
       "    </tr>\n",
       "    <tr>\n",
       "      <th>6</th>\n",
       "      <td>ym2</td>\n",
       "      <td>Friday</td>\n",
       "      <td>6</td>\n",
       "      <td>False</td>\n",
       "      <td>male</td>\n",
       "      <td>20</td>\n",
       "    </tr>\n",
       "    <tr>\n",
       "      <th>7</th>\n",
       "      <td>ym2</td>\n",
       "      <td>Friday</td>\n",
       "      <td>18</td>\n",
       "      <td>False</td>\n",
       "      <td>male</td>\n",
       "      <td>20</td>\n",
       "    </tr>\n",
       "    <tr>\n",
       "      <th>8</th>\n",
       "      <td>ym3</td>\n",
       "      <td>Monday</td>\n",
       "      <td>6</td>\n",
       "      <td>True</td>\n",
       "      <td>male</td>\n",
       "      <td>25</td>\n",
       "    </tr>\n",
       "    <tr>\n",
       "      <th>9</th>\n",
       "      <td>ym3</td>\n",
       "      <td>Monday</td>\n",
       "      <td>18</td>\n",
       "      <td>False</td>\n",
       "      <td>male</td>\n",
       "      <td>25</td>\n",
       "    </tr>\n",
       "  </tbody>\n",
       "</table>\n",
       "</div>"
      ],
      "text/plain": [
       "  userId sendDay  sendHour  clickThrough gender  age\n",
       "0    ym1  Monday         6          True   male   10\n",
       "1    ym1  Monday        18         False   male   10\n",
       "2    ym1  Friday         6         False   male   10\n",
       "3    ym1  Friday        18         False   male   10\n",
       "4    ym2  Monday         6          True   male   20\n",
       "5    ym2  Monday        18         False   male   20\n",
       "6    ym2  Friday         6         False   male   20\n",
       "7    ym2  Friday        18         False   male   20\n",
       "8    ym3  Monday         6          True   male   25\n",
       "9    ym3  Monday        18         False   male   25"
      ]
     },
     "execution_count": 10,
     "metadata": {},
     "output_type": "execute_result"
    }
   ],
   "source": [
    "# the data and data types are as expected\n",
    "# next, let's join our data into a single data frame and preview the result\n",
    "# we will leave out accountBalance as per Brian's instruction\n",
    "df_complete_user_data = pd.merge(df_email_sends, df_user_profiles[['userId', 'gender', 'age']], on='userId')\n",
    "print('The shape of our data set is {s}'.format(s=df_complete_user_data.shape))\n",
    "df_complete_user_data.head(10)\n"
   ]
  },
  {
   "cell_type": "code",
   "execution_count": 7,
   "metadata": {},
   "outputs": [
    {
     "data": {
      "text/html": [
       "<div>\n",
       "<style scoped>\n",
       "    .dataframe tbody tr th:only-of-type {\n",
       "        vertical-align: middle;\n",
       "    }\n",
       "\n",
       "    .dataframe tbody tr th {\n",
       "        vertical-align: top;\n",
       "    }\n",
       "\n",
       "    .dataframe thead th {\n",
       "        text-align: right;\n",
       "    }\n",
       "</style>\n",
       "<table border=\"1\" class=\"dataframe\">\n",
       "  <thead>\n",
       "    <tr style=\"text-align: right;\">\n",
       "      <th></th>\n",
       "      <th>userId</th>\n",
       "      <th>sendDay</th>\n",
       "      <th>sendHour</th>\n",
       "      <th>clickThrough</th>\n",
       "      <th>gender</th>\n",
       "      <th>age</th>\n",
       "    </tr>\n",
       "  </thead>\n",
       "  <tbody>\n",
       "    <tr>\n",
       "      <th>count</th>\n",
       "      <td>48</td>\n",
       "      <td>48</td>\n",
       "      <td>48.000000</td>\n",
       "      <td>48</td>\n",
       "      <td>48</td>\n",
       "      <td>48.000000</td>\n",
       "    </tr>\n",
       "    <tr>\n",
       "      <th>unique</th>\n",
       "      <td>12</td>\n",
       "      <td>2</td>\n",
       "      <td>NaN</td>\n",
       "      <td>2</td>\n",
       "      <td>2</td>\n",
       "      <td>NaN</td>\n",
       "    </tr>\n",
       "    <tr>\n",
       "      <th>top</th>\n",
       "      <td>ym2</td>\n",
       "      <td>Friday</td>\n",
       "      <td>NaN</td>\n",
       "      <td>False</td>\n",
       "      <td>female</td>\n",
       "      <td>NaN</td>\n",
       "    </tr>\n",
       "    <tr>\n",
       "      <th>freq</th>\n",
       "      <td>4</td>\n",
       "      <td>24</td>\n",
       "      <td>NaN</td>\n",
       "      <td>36</td>\n",
       "      <td>24</td>\n",
       "      <td>NaN</td>\n",
       "    </tr>\n",
       "    <tr>\n",
       "      <th>mean</th>\n",
       "      <td>NaN</td>\n",
       "      <td>NaN</td>\n",
       "      <td>12.000000</td>\n",
       "      <td>NaN</td>\n",
       "      <td>NaN</td>\n",
       "      <td>29.166667</td>\n",
       "    </tr>\n",
       "    <tr>\n",
       "      <th>std</th>\n",
       "      <td>NaN</td>\n",
       "      <td>NaN</td>\n",
       "      <td>6.063494</td>\n",
       "      <td>NaN</td>\n",
       "      <td>NaN</td>\n",
       "      <td>12.174849</td>\n",
       "    </tr>\n",
       "    <tr>\n",
       "      <th>min</th>\n",
       "      <td>NaN</td>\n",
       "      <td>NaN</td>\n",
       "      <td>6.000000</td>\n",
       "      <td>NaN</td>\n",
       "      <td>NaN</td>\n",
       "      <td>10.000000</td>\n",
       "    </tr>\n",
       "    <tr>\n",
       "      <th>25%</th>\n",
       "      <td>NaN</td>\n",
       "      <td>NaN</td>\n",
       "      <td>6.000000</td>\n",
       "      <td>NaN</td>\n",
       "      <td>NaN</td>\n",
       "      <td>20.000000</td>\n",
       "    </tr>\n",
       "    <tr>\n",
       "      <th>50%</th>\n",
       "      <td>NaN</td>\n",
       "      <td>NaN</td>\n",
       "      <td>12.000000</td>\n",
       "      <td>NaN</td>\n",
       "      <td>NaN</td>\n",
       "      <td>30.000000</td>\n",
       "    </tr>\n",
       "    <tr>\n",
       "      <th>75%</th>\n",
       "      <td>NaN</td>\n",
       "      <td>NaN</td>\n",
       "      <td>18.000000</td>\n",
       "      <td>NaN</td>\n",
       "      <td>NaN</td>\n",
       "      <td>40.000000</td>\n",
       "    </tr>\n",
       "    <tr>\n",
       "      <th>max</th>\n",
       "      <td>NaN</td>\n",
       "      <td>NaN</td>\n",
       "      <td>18.000000</td>\n",
       "      <td>NaN</td>\n",
       "      <td>NaN</td>\n",
       "      <td>45.000000</td>\n",
       "    </tr>\n",
       "  </tbody>\n",
       "</table>\n",
       "</div>"
      ],
      "text/plain": [
       "       userId sendDay   sendHour clickThrough  gender        age\n",
       "count      48      48  48.000000           48      48  48.000000\n",
       "unique     12       2        NaN            2       2        NaN\n",
       "top       ym2  Friday        NaN        False  female        NaN\n",
       "freq        4      24        NaN           36      24        NaN\n",
       "mean      NaN     NaN  12.000000          NaN     NaN  29.166667\n",
       "std       NaN     NaN   6.063494          NaN     NaN  12.174849\n",
       "min       NaN     NaN   6.000000          NaN     NaN  10.000000\n",
       "25%       NaN     NaN   6.000000          NaN     NaN  20.000000\n",
       "50%       NaN     NaN  12.000000          NaN     NaN  30.000000\n",
       "75%       NaN     NaN  18.000000          NaN     NaN  40.000000\n",
       "max       NaN     NaN  18.000000          NaN     NaN  45.000000"
      ]
     },
     "execution_count": 7,
     "metadata": {},
     "output_type": "execute_result"
    }
   ],
   "source": [
    "# run a describe on our data set\n",
    "# obviously only certain metrics are calculatable for each column depending on the data type\n",
    "df_complete_user_data.describe(include='all')"
   ]
  },
  {
   "cell_type": "markdown",
   "metadata": {},
   "source": [
    "Key findings from our describe function.\n",
    "- There are no null values, as each column contains a count of 48\n",
    "- 3/4 of the response variable observations (clickThrough) are False\n",
    "- 1/2 of the emails were sent to males and half were sent to females\n",
    "- 1/2 of the emails were sent on Monday (based on previewing the data it looks like Friday is the only other send day, but we'll confirm in our groupby evaluation below)"
   ]
  },
  {
   "cell_type": "markdown",
   "metadata": {},
   "source": [
    "Next, we will summarize the data by the distribution of the response variable across each potential predictor variable.  This is easy to visualize using data frames considering the small nature of our data set.  If the data set was more robust we would likely visualize it differently.  For instance, histograms of positive response rates across the distribution of each predictor variable."
   ]
  },
  {
   "cell_type": "code",
   "execution_count": 11,
   "metadata": {},
   "outputs": [
    {
     "name": "stdout",
     "output_type": "stream",
     "text": [
      "  sendDay  emails_sent  emails_clicked   ctr\n",
      "0  Friday           24               6  0.25\n",
      "1  Monday           24               6  0.25\n",
      "\n",
      "   sendHour  emails_sent  emails_clicked   ctr\n",
      "0         6           24               6  0.25\n",
      "1        18           24               6  0.25\n",
      "\n",
      "   gender  emails_sent  emails_clicked   ctr\n",
      "0  female           24               6  0.25\n",
      "1    male           24               6  0.25\n",
      "\n",
      "   age  emails_sent  emails_clicked   ctr\n",
      "0   10            8               2  0.25\n",
      "1   20            8               2  0.25\n",
      "2   25            8               2  0.25\n",
      "3   35            8               2  0.25\n",
      "4   40            8               2  0.25\n",
      "5   45            8               2  0.25\n",
      "\n"
     ]
    }
   ],
   "source": [
    "predictor_variables = ['sendDay', 'sendHour', 'gender', 'age']\n",
    "for predictor in predictor_variables:\n",
    "    df_clickthrough_summary = df_complete_user_data.groupby(predictor).agg(\n",
    "        {'userId': 'count',\n",
    "         'clickThrough': 'sum'}).reset_index()\n",
    "    df_clickthrough_summary.rename(columns={'userId': 'emails_sent',\n",
    "                                            'clickThrough': 'emails_clicked'}, inplace=True)\n",
    "    \n",
    "    df_clickthrough_summary['ctr']  =  df_clickthrough_summary['emails_clicked'] / df_clickthrough_summary['emails_sent']\n",
    "    print(df_clickthrough_summary)\n",
    "    print('')"
   ]
  },
  {
   "cell_type": "markdown",
   "metadata": {},
   "source": [
    "Interestingly, when looking at the each predictor variable individually all values have the same likelihood of yielding a user click.\n",
    "\n",
    "Let's group 'age' and 'sendDay' and also group 'gender' and 'sendHour' together, as these combinations should produce an obvious trend as per the information provided  "
   ]
  },
  {
   "cell_type": "code",
   "execution_count": 12,
   "metadata": {},
   "outputs": [
    {
     "name": "stdout",
     "output_type": "stream",
     "text": [
      "    age sendDay  emails_sent  emails_clicked  ctr\n",
      "0    10  Friday            4               0  0.0\n",
      "1    10  Monday            4               2  0.5\n",
      "2    20  Friday            4               0  0.0\n",
      "3    20  Monday            4               2  0.5\n",
      "4    25  Friday            4               0  0.0\n",
      "5    25  Monday            4               2  0.5\n",
      "6    35  Friday            4               2  0.5\n",
      "7    35  Monday            4               0  0.0\n",
      "8    40  Friday            4               2  0.5\n",
      "9    40  Monday            4               0  0.0\n",
      "10   45  Friday            4               2  0.5\n",
      "11   45  Monday            4               0  0.0\n",
      "\n",
      "   gender  sendHour  emails_sent  emails_clicked  ctr\n",
      "0  female         6           12               0  0.0\n",
      "1  female        18           12               6  0.5\n",
      "2    male         6           12               6  0.5\n",
      "3    male        18           12               0  0.0\n",
      "\n"
     ]
    }
   ],
   "source": [
    "groups = [['age', 'sendDay'], ['gender', 'sendHour']]\n",
    "\n",
    "for group in groups:\n",
    "    df_clickthrough_summary = df_complete_user_data.groupby(group).agg(\n",
    "        {'userId': 'count',\n",
    "         'clickThrough': 'sum'}).reset_index()\n",
    "    df_clickthrough_summary.rename(columns={'userId': 'emails_sent',\n",
    "                                            'clickThrough': 'emails_clicked'}, inplace=True)\n",
    "\n",
    "    df_clickthrough_summary['ctr']  =  df_clickthrough_summary['emails_clicked'] / df_clickthrough_summary['emails_sent']\n",
    "    print(df_clickthrough_summary)\n",
    "    print('')"
   ]
  },
  {
   "cell_type": "markdown",
   "metadata": {},
   "source": [
    "The data frames above clearly show the patterns descibed in the assignment description:\n",
    "- Young people (< 35 years old) click on emails on Monday.\n",
    "- Old people (>= 35 years old) click on emails on Fridays.\n",
    "- Males click on emails in the morning (6am, 06:00hr).\n",
    "- Females click on emails in the evening (6pm, 18:00hr).\n",
    "\n",
    "These hueristics mimic the framework for a decision tree classification model "
   ]
  },
  {
   "cell_type": "markdown",
   "metadata": {},
   "source": [
    "## Building the model\n",
    "We are working with a small clean data set that shows clear lifts in click through rate when sliced in different manners.  These data patterns suggest a traditional decision tree should be effective for predicting optimal send days and times to maximize the likelihood of a click-through.  We will approach this problem using a single decision tree, rather than a more complex approach like random forests or extreme gradient boosting.  The reasons for this decision are: the simplicity of the data set, clear patterns in the data, and the ease in visualizing and communicating the results of the model. "
   ]
  },
  {
   "cell_type": "markdown",
   "metadata": {},
   "source": [
    "**Note:** The objective of the model is to predict the best moment a user should receive an email, such that it will result in the greatest likelihood of a click.  Therefore, we'd like to design our model with a focus on predicting as many true positives as possible and thus we will focus mainly on recall as our model evaluation metric. \n",
    "\n",
    "We will also monitor accuracy, as we wouldn't want to simply predict every observation to yield a click. Our objective will be to maximize recall (the true positive rate) while maintaining accuracy above a lower bound."
   ]
  },
  {
   "cell_type": "markdown",
   "metadata": {},
   "source": [
    "First, we will format our input data so that it meets the requirements for a decision tree"
   ]
  },
  {
   "cell_type": "code",
   "execution_count": 13,
   "metadata": {},
   "outputs": [],
   "source": [
    "# we will start with a set of predictor variables that we will manipulate \n",
    "original_predictor_variables = ['sendDay', 'sendHour', 'gender', 'age']\n",
    "\n",
    "# decision trees don't inherently accept categorical variables\n",
    "# so we will create binary representations of our categorical values (dummy variables)\n",
    "input_data = pd.get_dummies(df_complete_user_data[original_predictor_variables], drop_first=True)\n",
    "\n",
    "# all original categorical fields used as predictors in this data set only have two options\n",
    "# therefore, we don't have to worry about ordinal data and the binary representations work fine  "
   ]
  },
  {
   "cell_type": "markdown",
   "metadata": {},
   "source": [
    "The input data can now be processed by the decision tree, but we'll do one more cleanup step prior to running it through the model.  There are only 2 unique values for sendHour 6 and 18, so it's not really a continuous representation of time, but rather a binary representation of whether the message was sent at 6am or not (6pm).  I believe passing the value through as a binary would lead to a more intuitive tree interpretation for end user of this model. \n",
    "\n",
    "Obviously, if our data set contained a continuous representation of data we would not perform this step."
   ]
  },
  {
   "cell_type": "code",
   "execution_count": 14,
   "metadata": {},
   "outputs": [
    {
     "data": {
      "text/html": [
       "<div>\n",
       "<style scoped>\n",
       "    .dataframe tbody tr th:only-of-type {\n",
       "        vertical-align: middle;\n",
       "    }\n",
       "\n",
       "    .dataframe tbody tr th {\n",
       "        vertical-align: top;\n",
       "    }\n",
       "\n",
       "    .dataframe thead th {\n",
       "        text-align: right;\n",
       "    }\n",
       "</style>\n",
       "<table border=\"1\" class=\"dataframe\">\n",
       "  <thead>\n",
       "    <tr style=\"text-align: right;\">\n",
       "      <th></th>\n",
       "      <th>age</th>\n",
       "      <th>sendDay_Monday</th>\n",
       "      <th>gender_male</th>\n",
       "      <th>sendHour_6am</th>\n",
       "    </tr>\n",
       "  </thead>\n",
       "  <tbody>\n",
       "    <tr>\n",
       "      <th>0</th>\n",
       "      <td>10</td>\n",
       "      <td>1</td>\n",
       "      <td>1</td>\n",
       "      <td>1</td>\n",
       "    </tr>\n",
       "    <tr>\n",
       "      <th>1</th>\n",
       "      <td>10</td>\n",
       "      <td>1</td>\n",
       "      <td>1</td>\n",
       "      <td>0</td>\n",
       "    </tr>\n",
       "    <tr>\n",
       "      <th>2</th>\n",
       "      <td>10</td>\n",
       "      <td>0</td>\n",
       "      <td>1</td>\n",
       "      <td>1</td>\n",
       "    </tr>\n",
       "    <tr>\n",
       "      <th>3</th>\n",
       "      <td>10</td>\n",
       "      <td>0</td>\n",
       "      <td>1</td>\n",
       "      <td>0</td>\n",
       "    </tr>\n",
       "    <tr>\n",
       "      <th>4</th>\n",
       "      <td>20</td>\n",
       "      <td>1</td>\n",
       "      <td>1</td>\n",
       "      <td>1</td>\n",
       "    </tr>\n",
       "  </tbody>\n",
       "</table>\n",
       "</div>"
      ],
      "text/plain": [
       "   age  sendDay_Monday  gender_male  sendHour_6am\n",
       "0   10               1            1             1\n",
       "1   10               1            1             0\n",
       "2   10               0            1             1\n",
       "3   10               0            1             0\n",
       "4   20               1            1             1"
      ]
     },
     "execution_count": 14,
     "metadata": {},
     "output_type": "execute_result"
    }
   ],
   "source": [
    "# update sendHour to a binary flag representing a 6am delivery or not\n",
    "input_data['sendHour_6am'] = np.where(input_data['sendHour']==6, 1, 0)\n",
    "input_data.drop('sendHour', axis=1, inplace=True)\n",
    "input_data.head()\n",
    "\n",
    "# note we do not need to create binary representation for 'sendHour_6pm' \n",
    "# as the complete data set is already explained using the sendHour_6am flag\n",
    "# ie if sendHour_6am is 0 we know that the send hour is 6pm"
   ]
  },
  {
   "cell_type": "markdown",
   "metadata": {},
   "source": [
    "Now we have a set of crystal clear data that can be passed into a decision tree model.  \n",
    "\n",
    "We will analyze a few different options for some of the input parameters to the decision tree classifier.  We won't go overboard here, due to time constraints and the simplicity of the data set.  We're essentially just looking for an appropriate depth for our tree as well as testing a hypothesis that `class_weight='balanced'` should improve our recall when we have an imbalanced class variable.\n",
    "\n",
    "The approach of tracking fit measures of our model produced from training sets at various random states was chosen in favor of cross validation because the folds would contain a very limited amount of observations."
   ]
  },
  {
   "cell_type": "code",
   "execution_count": 15,
   "metadata": {},
   "outputs": [],
   "source": [
    "x = input_data\n",
    "y = df_complete_user_data['clickThrough']"
   ]
  },
  {
   "cell_type": "code",
   "execution_count": 16,
   "metadata": {},
   "outputs": [],
   "source": [
    "def evaluate_decision_tree_params(class_weight_options, depth_options, random_states):\n",
    "    random_states = range(1, random_states + 1)\n",
    "    depth_list = []\n",
    "    class_weight_list = []\n",
    "    random_state_list = []\n",
    "    accuracy_list = []\n",
    "    recall_list = []\n",
    "    for option in class_weight_options:\n",
    "        for depth in depth_options:\n",
    "            for random_state in random_states:\n",
    "                x_train, x_test, y_train, y_test = train_test_split(x, y, test_size=0.3, \n",
    "                                                                    random_state=random_state, stratify=y)\n",
    "                model = DecisionTreeClassifier(max_depth=depth, class_weight=option, criterion='entropy')\n",
    "                model = model.fit(x_train, y_train)\n",
    "                y_pred = model.predict(x_test)\n",
    "                depth_list.append(depth)\n",
    "                class_weight_list.append(option)\n",
    "                random_state_list.append(random_state)\n",
    "                accuracy_list.append(metrics.accuracy_score(y_test, y_pred))\n",
    "                recall_list.append(metrics.recall_score(y_test, y_pred))\n",
    "    df_evaluate_params = pd.DataFrame(np.column_stack([depth_list,\n",
    "                                                       class_weight_list,\n",
    "                                                       random_state_list,\n",
    "                                                       accuracy_list,\n",
    "                                                       recall_list]), \n",
    "                                      columns=['depth',\n",
    "                                               'class_weight_param',\n",
    "                                               'random_state',\n",
    "                                               'accuracy',\n",
    "                                               'recall'])\n",
    "\n",
    "    return df_evaluate_params"
   ]
  },
  {
   "cell_type": "code",
   "execution_count": 17,
   "metadata": {},
   "outputs": [],
   "source": [
    "# run through 100 random states for each set of model inputs\n",
    "# decided to also evaluate a manual class_weight assignment in additon to the balanced option\n",
    "df_evaluate_params = evaluate_decision_tree_params([None, 'balanced', {0:1, 1:3}], range(2,6), 100)"
   ]
  },
  {
   "cell_type": "code",
   "execution_count": 18,
   "metadata": {},
   "outputs": [
    {
     "data": {
      "text/plain": [
       "depth                 object\n",
       "class_weight_param    object\n",
       "random_state          object\n",
       "accuracy              object\n",
       "recall                object\n",
       "dtype: object"
      ]
     },
     "execution_count": 18,
     "metadata": {},
     "output_type": "execute_result"
    }
   ],
   "source": [
    "# we can see that the data types we'd like to manipulate in the group by aren't numeric, let's adjust that\n",
    "df_evaluate_params.dtypes"
   ]
  },
  {
   "cell_type": "code",
   "execution_count": 19,
   "metadata": {},
   "outputs": [
    {
     "data": {
      "text/plain": [
       "depth                   int64\n",
       "class_weight_param     object\n",
       "random_state            int64\n",
       "accuracy              float64\n",
       "recall                float64\n",
       "dtype: object"
      ]
     },
     "execution_count": 19,
     "metadata": {},
     "output_type": "execute_result"
    }
   ],
   "source": [
    "df_evaluate_params[['class_weight_param']] = df_evaluate_params[['class_weight_param']].astype(str)\n",
    "df_evaluate_params[['depth', 'random_state']] = df_evaluate_params[['depth', 'random_state']].astype(int)\n",
    "df_evaluate_params[['accuracy', 'recall']] = df_evaluate_params[['accuracy', 'recall']].astype(float)\n",
    "df_evaluate_params.dtypes"
   ]
  },
  {
   "cell_type": "code",
   "execution_count": 20,
   "metadata": {},
   "outputs": [
    {
     "data": {
      "text/html": [
       "<div>\n",
       "<style scoped>\n",
       "    .dataframe tbody tr th:only-of-type {\n",
       "        vertical-align: middle;\n",
       "    }\n",
       "\n",
       "    .dataframe tbody tr th {\n",
       "        vertical-align: top;\n",
       "    }\n",
       "\n",
       "    .dataframe thead th {\n",
       "        text-align: right;\n",
       "    }\n",
       "</style>\n",
       "<table border=\"1\" class=\"dataframe\">\n",
       "  <thead>\n",
       "    <tr style=\"text-align: right;\">\n",
       "      <th></th>\n",
       "      <th>depth</th>\n",
       "      <th>class_weight_param</th>\n",
       "      <th>random_state</th>\n",
       "      <th>accuracy</th>\n",
       "      <th>recall</th>\n",
       "    </tr>\n",
       "  </thead>\n",
       "  <tbody>\n",
       "    <tr>\n",
       "      <th>0</th>\n",
       "      <td>2</td>\n",
       "      <td>None</td>\n",
       "      <td>1</td>\n",
       "      <td>0.533333</td>\n",
       "      <td>0.50</td>\n",
       "    </tr>\n",
       "    <tr>\n",
       "      <th>1</th>\n",
       "      <td>2</td>\n",
       "      <td>None</td>\n",
       "      <td>2</td>\n",
       "      <td>0.666667</td>\n",
       "      <td>0.25</td>\n",
       "    </tr>\n",
       "    <tr>\n",
       "      <th>2</th>\n",
       "      <td>2</td>\n",
       "      <td>None</td>\n",
       "      <td>3</td>\n",
       "      <td>0.733333</td>\n",
       "      <td>0.00</td>\n",
       "    </tr>\n",
       "    <tr>\n",
       "      <th>3</th>\n",
       "      <td>2</td>\n",
       "      <td>None</td>\n",
       "      <td>4</td>\n",
       "      <td>0.733333</td>\n",
       "      <td>0.00</td>\n",
       "    </tr>\n",
       "    <tr>\n",
       "      <th>4</th>\n",
       "      <td>2</td>\n",
       "      <td>None</td>\n",
       "      <td>5</td>\n",
       "      <td>0.666667</td>\n",
       "      <td>0.00</td>\n",
       "    </tr>\n",
       "    <tr>\n",
       "      <th>...</th>\n",
       "      <td>...</td>\n",
       "      <td>...</td>\n",
       "      <td>...</td>\n",
       "      <td>...</td>\n",
       "      <td>...</td>\n",
       "    </tr>\n",
       "    <tr>\n",
       "      <th>1195</th>\n",
       "      <td>5</td>\n",
       "      <td>{0: 1, 1: 3}</td>\n",
       "      <td>96</td>\n",
       "      <td>0.800000</td>\n",
       "      <td>0.50</td>\n",
       "    </tr>\n",
       "    <tr>\n",
       "      <th>1196</th>\n",
       "      <td>5</td>\n",
       "      <td>{0: 1, 1: 3}</td>\n",
       "      <td>97</td>\n",
       "      <td>1.000000</td>\n",
       "      <td>1.00</td>\n",
       "    </tr>\n",
       "    <tr>\n",
       "      <th>1197</th>\n",
       "      <td>5</td>\n",
       "      <td>{0: 1, 1: 3}</td>\n",
       "      <td>98</td>\n",
       "      <td>1.000000</td>\n",
       "      <td>1.00</td>\n",
       "    </tr>\n",
       "    <tr>\n",
       "      <th>1198</th>\n",
       "      <td>5</td>\n",
       "      <td>{0: 1, 1: 3}</td>\n",
       "      <td>99</td>\n",
       "      <td>0.533333</td>\n",
       "      <td>0.25</td>\n",
       "    </tr>\n",
       "    <tr>\n",
       "      <th>1199</th>\n",
       "      <td>5</td>\n",
       "      <td>{0: 1, 1: 3}</td>\n",
       "      <td>100</td>\n",
       "      <td>0.666667</td>\n",
       "      <td>0.50</td>\n",
       "    </tr>\n",
       "  </tbody>\n",
       "</table>\n",
       "<p>1200 rows × 5 columns</p>\n",
       "</div>"
      ],
      "text/plain": [
       "      depth class_weight_param  random_state  accuracy  recall\n",
       "0         2               None             1  0.533333    0.50\n",
       "1         2               None             2  0.666667    0.25\n",
       "2         2               None             3  0.733333    0.00\n",
       "3         2               None             4  0.733333    0.00\n",
       "4         2               None             5  0.666667    0.00\n",
       "...     ...                ...           ...       ...     ...\n",
       "1195      5       {0: 1, 1: 3}            96  0.800000    0.50\n",
       "1196      5       {0: 1, 1: 3}            97  1.000000    1.00\n",
       "1197      5       {0: 1, 1: 3}            98  1.000000    1.00\n",
       "1198      5       {0: 1, 1: 3}            99  0.533333    0.25\n",
       "1199      5       {0: 1, 1: 3}           100  0.666667    0.50\n",
       "\n",
       "[1200 rows x 5 columns]"
      ]
     },
     "execution_count": 20,
     "metadata": {},
     "output_type": "execute_result"
    }
   ],
   "source": [
    "df_evaluate_params"
   ]
  },
  {
   "cell_type": "code",
   "execution_count": 21,
   "metadata": {
    "scrolled": true
   },
   "outputs": [
    {
     "data": {
      "text/html": [
       "<div>\n",
       "<style scoped>\n",
       "    .dataframe tbody tr th:only-of-type {\n",
       "        vertical-align: middle;\n",
       "    }\n",
       "\n",
       "    .dataframe tbody tr th {\n",
       "        vertical-align: top;\n",
       "    }\n",
       "\n",
       "    .dataframe thead th {\n",
       "        text-align: right;\n",
       "    }\n",
       "</style>\n",
       "<table border=\"1\" class=\"dataframe\">\n",
       "  <thead>\n",
       "    <tr style=\"text-align: right;\">\n",
       "      <th></th>\n",
       "      <th>depth</th>\n",
       "      <th>class_weight_param</th>\n",
       "      <th>states_evaluated</th>\n",
       "      <th>accuracy_mean</th>\n",
       "      <th>accuracy_max</th>\n",
       "      <th>accuracy_std</th>\n",
       "      <th>recall_mean</th>\n",
       "      <th>recall_max</th>\n",
       "      <th>recall_std</th>\n",
       "    </tr>\n",
       "  </thead>\n",
       "  <tbody>\n",
       "    <tr>\n",
       "      <th>0</th>\n",
       "      <td>2</td>\n",
       "      <td>None</td>\n",
       "      <td>100</td>\n",
       "      <td>0.681333</td>\n",
       "      <td>0.733333</td>\n",
       "      <td>0.061101</td>\n",
       "      <td>0.0775</td>\n",
       "      <td>1.0</td>\n",
       "      <td>0.153639</td>\n",
       "    </tr>\n",
       "    <tr>\n",
       "      <th>1</th>\n",
       "      <td>2</td>\n",
       "      <td>balanced</td>\n",
       "      <td>100</td>\n",
       "      <td>0.614000</td>\n",
       "      <td>0.933333</td>\n",
       "      <td>0.184542</td>\n",
       "      <td>0.6550</td>\n",
       "      <td>1.0</td>\n",
       "      <td>0.372305</td>\n",
       "    </tr>\n",
       "    <tr>\n",
       "      <th>2</th>\n",
       "      <td>2</td>\n",
       "      <td>{0: 1, 1: 3}</td>\n",
       "      <td>100</td>\n",
       "      <td>0.610000</td>\n",
       "      <td>0.933333</td>\n",
       "      <td>0.179380</td>\n",
       "      <td>0.6100</td>\n",
       "      <td>1.0</td>\n",
       "      <td>0.400946</td>\n",
       "    </tr>\n",
       "    <tr>\n",
       "      <th>3</th>\n",
       "      <td>3</td>\n",
       "      <td>None</td>\n",
       "      <td>100</td>\n",
       "      <td>0.616000</td>\n",
       "      <td>0.733333</td>\n",
       "      <td>0.083213</td>\n",
       "      <td>0.0825</td>\n",
       "      <td>0.5</td>\n",
       "      <td>0.155111</td>\n",
       "    </tr>\n",
       "    <tr>\n",
       "      <th>4</th>\n",
       "      <td>3</td>\n",
       "      <td>balanced</td>\n",
       "      <td>100</td>\n",
       "      <td>0.682000</td>\n",
       "      <td>0.933333</td>\n",
       "      <td>0.134625</td>\n",
       "      <td>0.6475</td>\n",
       "      <td>1.0</td>\n",
       "      <td>0.314014</td>\n",
       "    </tr>\n",
       "    <tr>\n",
       "      <th>5</th>\n",
       "      <td>3</td>\n",
       "      <td>{0: 1, 1: 3}</td>\n",
       "      <td>100</td>\n",
       "      <td>0.667333</td>\n",
       "      <td>0.866667</td>\n",
       "      <td>0.119293</td>\n",
       "      <td>0.5875</td>\n",
       "      <td>1.0</td>\n",
       "      <td>0.308497</td>\n",
       "    </tr>\n",
       "    <tr>\n",
       "      <th>6</th>\n",
       "      <td>4</td>\n",
       "      <td>None</td>\n",
       "      <td>100</td>\n",
       "      <td>0.652000</td>\n",
       "      <td>1.000000</td>\n",
       "      <td>0.137830</td>\n",
       "      <td>0.2250</td>\n",
       "      <td>1.0</td>\n",
       "      <td>0.291937</td>\n",
       "    </tr>\n",
       "    <tr>\n",
       "      <th>7</th>\n",
       "      <td>4</td>\n",
       "      <td>balanced</td>\n",
       "      <td>100</td>\n",
       "      <td>0.699333</td>\n",
       "      <td>1.000000</td>\n",
       "      <td>0.131125</td>\n",
       "      <td>0.5175</td>\n",
       "      <td>1.0</td>\n",
       "      <td>0.310293</td>\n",
       "    </tr>\n",
       "    <tr>\n",
       "      <th>8</th>\n",
       "      <td>4</td>\n",
       "      <td>{0: 1, 1: 3}</td>\n",
       "      <td>100</td>\n",
       "      <td>0.668667</td>\n",
       "      <td>1.000000</td>\n",
       "      <td>0.138115</td>\n",
       "      <td>0.4225</td>\n",
       "      <td>1.0</td>\n",
       "      <td>0.315218</td>\n",
       "    </tr>\n",
       "    <tr>\n",
       "      <th>9</th>\n",
       "      <td>5</td>\n",
       "      <td>None</td>\n",
       "      <td>100</td>\n",
       "      <td>0.721333</td>\n",
       "      <td>1.000000</td>\n",
       "      <td>0.147217</td>\n",
       "      <td>0.3975</td>\n",
       "      <td>1.0</td>\n",
       "      <td>0.344684</td>\n",
       "    </tr>\n",
       "    <tr>\n",
       "      <th>10</th>\n",
       "      <td>5</td>\n",
       "      <td>balanced</td>\n",
       "      <td>100</td>\n",
       "      <td>0.728667</td>\n",
       "      <td>1.000000</td>\n",
       "      <td>0.127218</td>\n",
       "      <td>0.4400</td>\n",
       "      <td>1.0</td>\n",
       "      <td>0.297549</td>\n",
       "    </tr>\n",
       "    <tr>\n",
       "      <th>11</th>\n",
       "      <td>5</td>\n",
       "      <td>{0: 1, 1: 3}</td>\n",
       "      <td>100</td>\n",
       "      <td>0.727333</td>\n",
       "      <td>1.000000</td>\n",
       "      <td>0.137345</td>\n",
       "      <td>0.4550</td>\n",
       "      <td>1.0</td>\n",
       "      <td>0.293834</td>\n",
       "    </tr>\n",
       "  </tbody>\n",
       "</table>\n",
       "</div>"
      ],
      "text/plain": [
       "    depth class_weight_param  states_evaluated  accuracy_mean  accuracy_max  \\\n",
       "0       2               None               100       0.681333      0.733333   \n",
       "1       2           balanced               100       0.614000      0.933333   \n",
       "2       2       {0: 1, 1: 3}               100       0.610000      0.933333   \n",
       "3       3               None               100       0.616000      0.733333   \n",
       "4       3           balanced               100       0.682000      0.933333   \n",
       "5       3       {0: 1, 1: 3}               100       0.667333      0.866667   \n",
       "6       4               None               100       0.652000      1.000000   \n",
       "7       4           balanced               100       0.699333      1.000000   \n",
       "8       4       {0: 1, 1: 3}               100       0.668667      1.000000   \n",
       "9       5               None               100       0.721333      1.000000   \n",
       "10      5           balanced               100       0.728667      1.000000   \n",
       "11      5       {0: 1, 1: 3}               100       0.727333      1.000000   \n",
       "\n",
       "    accuracy_std  recall_mean  recall_max  recall_std  \n",
       "0       0.061101       0.0775         1.0    0.153639  \n",
       "1       0.184542       0.6550         1.0    0.372305  \n",
       "2       0.179380       0.6100         1.0    0.400946  \n",
       "3       0.083213       0.0825         0.5    0.155111  \n",
       "4       0.134625       0.6475         1.0    0.314014  \n",
       "5       0.119293       0.5875         1.0    0.308497  \n",
       "6       0.137830       0.2250         1.0    0.291937  \n",
       "7       0.131125       0.5175         1.0    0.310293  \n",
       "8       0.138115       0.4225         1.0    0.315218  \n",
       "9       0.147217       0.3975         1.0    0.344684  \n",
       "10      0.127218       0.4400         1.0    0.297549  \n",
       "11      0.137345       0.4550         1.0    0.293834  "
      ]
     },
     "execution_count": 21,
     "metadata": {},
     "output_type": "execute_result"
    }
   ],
   "source": [
    "# much better, now we can summarize the model evaluation metrics across options we looped through\n",
    "df_evaluate_params['class_weight_param'].fillna('default', inplace=True)\n",
    "df_evaluation_summary = df_evaluate_params.groupby(['depth', 'class_weight_param']).agg({\n",
    "    'random_state': 'count',\n",
    "    'accuracy': ['mean', 'max', 'std'],\n",
    "    'recall': ['mean', 'max', 'std']}).reset_index()\n",
    "df_evaluation_summary\n",
    "df_evaluation_summary.columns = ['depth', 'class_weight_param', 'states_evaluated', 'accuracy_mean',\n",
    "                                 'accuracy_max', 'accuracy_std', 'recall_mean',\n",
    "                                 'recall_max', 'recall_std']\n",
    "df_evaluation_summary"
   ]
  },
  {
   "cell_type": "markdown",
   "metadata": {},
   "source": [
    "Evaluating the above output, we can see that as expected the 'balanced' option returned greater recall values for all tree depth options.  It also did not lead to any reduction in accuracy.\n",
    "\n",
    "I decided it would be best to move forward with a tree of depth 3 while utilizing the 'balanced' option for the class_weight parameter.  This depth yields the greatest recall measures while accuracy is in line with many of the other depths.\n",
    "\n",
    "updated: I adjusted the model to a depth of 4, when applying the model to new user data it seemed to be missing some crucial splits.  Depth of 4 yields a lower recall on average than a depth of 3, but the max value is 1, so if we initialize it on the correct random state we may return a more effective model anyway.  After the update, the model returns expected values for all test cases. "
   ]
  },
  {
   "cell_type": "markdown",
   "metadata": {},
   "source": [
    "We can now train our final model with the information we gained above"
   ]
  },
  {
   "cell_type": "code",
   "execution_count": 22,
   "metadata": {},
   "outputs": [
    {
     "name": "stdout",
     "output_type": "stream",
     "text": [
      "The recall for our model is: 1.0\n",
      "The accuracy for our model is: 1.0\n"
     ]
    }
   ],
   "source": [
    "# grab the random state that performes best for the options we chose than train the model\n",
    "df_state_options = df_evaluate_params[(df_evaluate_params['depth']==4) &\n",
    "                                      (df_evaluate_params['class_weight_param']=='balanced') & \n",
    "                                      (df_evaluate_params['accuracy']>=.70)]\n",
    "\n",
    "filtered_options = df_state_options[df_state_options['recall']==df_state_options['recall'].max()]\n",
    "best_options = df_state_options[df_state_options['accuracy']==df_state_options['accuracy'].max()].reset_index()\n",
    "best_state = best_options['random_state'][0]\n",
    "\n",
    "x_train, x_test, y_train, y_test = train_test_split(x, y, test_size=0.3, \n",
    "                                                    random_state=best_state, stratify=y)\n",
    "model = DecisionTreeClassifier(max_depth=4, class_weight='balanced', criterion='entropy')\n",
    "model = model.fit(x_train, y_train)\n",
    "y_pred = model.predict(x_test)\n",
    "print('The recall for our model is: {r}'.format(r=metrics.recall_score(y_test, y_pred)))\n",
    "print('The accuracy for our model is: {a}'.format(a=metrics.accuracy_score(y_test, y_pred)))"
   ]
  },
  {
   "cell_type": "markdown",
   "metadata": {},
   "source": [
    "## Visualize our model results"
   ]
  },
  {
   "cell_type": "code",
   "execution_count": 23,
   "metadata": {},
   "outputs": [
    {
     "data": {
      "text/plain": [
       "Index(['age', 'sendDay_Monday', 'gender_male', 'sendHour_6am'], dtype='object')"
      ]
     },
     "execution_count": 23,
     "metadata": {},
     "output_type": "execute_result"
    }
   ],
   "source": [
    "x_train.columns"
   ]
  },
  {
   "cell_type": "code",
   "execution_count": 24,
   "metadata": {
    "scrolled": false
   },
   "outputs": [
    {
     "data": {
      "image/png": "[encoded data removed]",
      "text/plain": [
       "<Figure size 1800x1440 with 1 Axes>"
      ]
     },
     "metadata": {
      "needs_background": "light"
     },
     "output_type": "display_data"
    }
   ],
   "source": [
    "fig = plt.figure(figsize=(25,20))\n",
    "_ = tree.plot_tree(model, \n",
    "                   feature_names=input_data.columns,  \n",
    "                   class_names=['not clicked', 'clicked'],\n",
    "                   filled=True)"
   ]
  },
  {
   "attachments": {},
   "cell_type": "markdown",
   "metadata": {},
   "source": [
    "Unfortunately, I didn't have time to fool around with all the decision tree formatting options to make the above decision tree visualization easily digestible.  However, if we look at some of the splits we can see that the patterns we expected from EDA are present in the decision tree.  The metric and value to split the root node is basically arbitrary from what we saw during EDA (every value grouping within each variable has the same click through rate).  Our tree decided to start by splitting on age<=30.  If we traverse the tree to the left, we see that when the send day is not Monday (aka it's Friday) and age is less or equal to 30 (as indicated by the initial split) all 8 of the training samples have not clicked-through emails.  This is what we would expect based on the pattern from the original data set shown below:"
   ]
  },
  {
   "cell_type": "code",
   "execution_count": 30,
   "metadata": {},
   "outputs": [
    {
     "data": {
      "text/html": [
       "<div>\n",
       "<style scoped>\n",
       "    .dataframe tbody tr th:only-of-type {\n",
       "        vertical-align: middle;\n",
       "    }\n",
       "\n",
       "    .dataframe tbody tr th {\n",
       "        vertical-align: top;\n",
       "    }\n",
       "\n",
       "    .dataframe thead th {\n",
       "        text-align: right;\n",
       "    }\n",
       "</style>\n",
       "<table border=\"1\" class=\"dataframe\">\n",
       "  <thead>\n",
       "    <tr style=\"text-align: right;\">\n",
       "      <th></th>\n",
       "      <th>userId</th>\n",
       "      <th>sendDay</th>\n",
       "      <th>sendHour</th>\n",
       "      <th>clickThrough</th>\n",
       "      <th>gender</th>\n",
       "      <th>age</th>\n",
       "    </tr>\n",
       "  </thead>\n",
       "  <tbody>\n",
       "    <tr>\n",
       "      <th>2</th>\n",
       "      <td>ym1</td>\n",
       "      <td>Friday</td>\n",
       "      <td>6</td>\n",
       "      <td>False</td>\n",
       "      <td>male</td>\n",
       "      <td>10</td>\n",
       "    </tr>\n",
       "    <tr>\n",
       "      <th>3</th>\n",
       "      <td>ym1</td>\n",
       "      <td>Friday</td>\n",
       "      <td>18</td>\n",
       "      <td>False</td>\n",
       "      <td>male</td>\n",
       "      <td>10</td>\n",
       "    </tr>\n",
       "    <tr>\n",
       "      <th>6</th>\n",
       "      <td>ym2</td>\n",
       "      <td>Friday</td>\n",
       "      <td>6</td>\n",
       "      <td>False</td>\n",
       "      <td>male</td>\n",
       "      <td>20</td>\n",
       "    </tr>\n",
       "    <tr>\n",
       "      <th>7</th>\n",
       "      <td>ym2</td>\n",
       "      <td>Friday</td>\n",
       "      <td>18</td>\n",
       "      <td>False</td>\n",
       "      <td>male</td>\n",
       "      <td>20</td>\n",
       "    </tr>\n",
       "    <tr>\n",
       "      <th>10</th>\n",
       "      <td>ym3</td>\n",
       "      <td>Friday</td>\n",
       "      <td>6</td>\n",
       "      <td>False</td>\n",
       "      <td>male</td>\n",
       "      <td>25</td>\n",
       "    </tr>\n",
       "    <tr>\n",
       "      <th>11</th>\n",
       "      <td>ym3</td>\n",
       "      <td>Friday</td>\n",
       "      <td>18</td>\n",
       "      <td>False</td>\n",
       "      <td>male</td>\n",
       "      <td>25</td>\n",
       "    </tr>\n",
       "    <tr>\n",
       "      <th>26</th>\n",
       "      <td>yf1</td>\n",
       "      <td>Friday</td>\n",
       "      <td>6</td>\n",
       "      <td>False</td>\n",
       "      <td>female</td>\n",
       "      <td>10</td>\n",
       "    </tr>\n",
       "    <tr>\n",
       "      <th>27</th>\n",
       "      <td>yf1</td>\n",
       "      <td>Friday</td>\n",
       "      <td>18</td>\n",
       "      <td>False</td>\n",
       "      <td>female</td>\n",
       "      <td>10</td>\n",
       "    </tr>\n",
       "    <tr>\n",
       "      <th>30</th>\n",
       "      <td>yf2</td>\n",
       "      <td>Friday</td>\n",
       "      <td>6</td>\n",
       "      <td>False</td>\n",
       "      <td>female</td>\n",
       "      <td>20</td>\n",
       "    </tr>\n",
       "    <tr>\n",
       "      <th>31</th>\n",
       "      <td>yf2</td>\n",
       "      <td>Friday</td>\n",
       "      <td>18</td>\n",
       "      <td>False</td>\n",
       "      <td>female</td>\n",
       "      <td>20</td>\n",
       "    </tr>\n",
       "    <tr>\n",
       "      <th>34</th>\n",
       "      <td>yf3</td>\n",
       "      <td>Friday</td>\n",
       "      <td>6</td>\n",
       "      <td>False</td>\n",
       "      <td>female</td>\n",
       "      <td>25</td>\n",
       "    </tr>\n",
       "    <tr>\n",
       "      <th>35</th>\n",
       "      <td>yf3</td>\n",
       "      <td>Friday</td>\n",
       "      <td>18</td>\n",
       "      <td>False</td>\n",
       "      <td>female</td>\n",
       "      <td>25</td>\n",
       "    </tr>\n",
       "  </tbody>\n",
       "</table>\n",
       "</div>"
      ],
      "text/plain": [
       "   userId sendDay  sendHour  clickThrough  gender  age\n",
       "2     ym1  Friday         6         False    male   10\n",
       "3     ym1  Friday        18         False    male   10\n",
       "6     ym2  Friday         6         False    male   20\n",
       "7     ym2  Friday        18         False    male   20\n",
       "10    ym3  Friday         6         False    male   25\n",
       "11    ym3  Friday        18         False    male   25\n",
       "26    yf1  Friday         6         False  female   10\n",
       "27    yf1  Friday        18         False  female   10\n",
       "30    yf2  Friday         6         False  female   20\n",
       "31    yf2  Friday        18         False  female   20\n",
       "34    yf3  Friday         6         False  female   25\n",
       "35    yf3  Friday        18         False  female   25"
      ]
     },
     "execution_count": 30,
     "metadata": {},
     "output_type": "execute_result"
    }
   ],
   "source": [
    "df_complete_user_data[(df_complete_user_data['age']<=30) & (df_complete_user_data['sendDay']=='Friday')]"
   ]
  },
  {
   "cell_type": "markdown",
   "metadata": {},
   "source": [
    "If we contined traversing all the nodes in the tree we would see many other patterns that match the original data set.  From my time at Sidecar, I have learned that end users are often wary of black box solutions.  So anytime it is possible to build an effective model with minimal complexity and decisions that can be easily understood based on the input, it is beneficial to customer adoption."
   ]
  },
  {
   "cell_type": "markdown",
   "metadata": {},
   "source": [
    "## Final Step: Applying the model to new user records"
   ]
  },
  {
   "cell_type": "markdown",
   "metadata": {},
   "source": [
    "A new user won't have all the predictor variables we used to train our model.  They will only have values for 'gender' and 'age'.  We need to leverage our model such that we produce the optimal combination of the remaining predictor variables that will lead to the greatest liklihood of a click through.  Considering the remaining predictor variables only have 2 options each, we can quickly compute a brute force approach for each new user that evaluates each of the combinations of 'sendDay' and 'sendHour'.  We can then return the option that returns the greatest probability for a click through.  "
   ]
  },
  {
   "cell_type": "code",
   "execution_count": 31,
   "metadata": {},
   "outputs": [],
   "source": [
    "# create a df for each sendDay sendHour combo, using our model's predictor variables\n",
    "df_date_and_time_combos = pd.DataFrame({'sendDay_Monday':[0, 0, 1, 1], \n",
    "                                        'sendHour_6am':[0, 1, 0, 1]})\n"
   ]
  },
  {
   "cell_type": "code",
   "execution_count": 32,
   "metadata": {},
   "outputs": [],
   "source": [
    "def evaluate_options(age, gender, df_date_and_time_combos, model):\n",
    "    # validate input\n",
    "    genders = ['male', 'female']\n",
    "    if gender not in genders:\n",
    "        raise ValueError('Invalid gender input. Expected one of: {}'.format(genders))\n",
    "    \n",
    "    #create options\n",
    "    age_list = list([age]*4)\n",
    "    gender_list = list([gender]*4)\n",
    "    df_age_gender = pd.DataFrame(np.column_stack([age_list,\n",
    "                                                  gender_list]), \n",
    "                                 columns=['age',\n",
    "                                 'gender'])\n",
    "    df_options = pd.concat([df_age_gender, df_date_and_time_combos], axis=1)\n",
    "    df_options['gender_male'] = np.where(df_options['gender']=='male', 1, 0) \n",
    "    df_options = df_options[['age', 'sendDay_Monday', 'gender_male', 'sendHour_6am']]\n",
    "    \n",
    "    # score options\n",
    "    y_pred = pd.Series(model.predict(df_options))\n",
    "    y_probabilities = pd.DataFrame(model.predict_proba(df_options), columns=['false_probability', 'true_probability'])\n",
    "    df_options = pd.concat([df_options, y_pred, y_probabilities], axis=1)\n",
    "    \n",
    "    # select best send time\n",
    "    df_best_option = df_options[df_options['true_probability']==df_options['true_probability'].max()].reset_index()\n",
    "    \n",
    "    # print response\n",
    "    if df_best_option['sendDay_Monday'][0]==1:\n",
    "        best_day = 'Monday' \n",
    "    else:\n",
    "        best_day = 'Friday'\n",
    "    if df_best_option['sendHour_6am'][0]==1:\n",
    "        best_time = '6am' \n",
    "    else:\n",
    "        best_time = '6pm'\n",
    "    print('The day and time a user of age: {a}, gender: {g} is most likely to click through an email is {d} at {t}'.format(\n",
    "        a=age, g=gender, d=best_day, t=best_time))    "
   ]
  },
  {
   "cell_type": "markdown",
   "metadata": {},
   "source": [
    "## Enter new user information in the first two params of the formula below\n",
    "The second two params are held constant"
   ]
  },
  {
   "cell_type": "code",
   "execution_count": 33,
   "metadata": {
    "scrolled": false
   },
   "outputs": [
    {
     "name": "stdout",
     "output_type": "stream",
     "text": [
      "The day and time a user of age: 40, gender: male is most likely to click through an email is Friday at 6am\n"
     ]
    }
   ],
   "source": [
    "evaluate_options(40, 'male', df_date_and_time_combos, model)"
   ]
  },
  {
   "cell_type": "code",
   "execution_count": 34,
   "metadata": {},
   "outputs": [
    {
     "name": "stdout",
     "output_type": "stream",
     "text": [
      "The day and time a user of age: 15, gender: male is most likely to click through an email is Monday at 6am\n",
      "The day and time a user of age: 20, gender: male is most likely to click through an email is Monday at 6am\n",
      "The day and time a user of age: 25, gender: male is most likely to click through an email is Monday at 6am\n",
      "The day and time a user of age: 30, gender: male is most likely to click through an email is Monday at 6am\n",
      "The day and time a user of age: 35, gender: male is most likely to click through an email is Friday at 6am\n",
      "The day and time a user of age: 40, gender: male is most likely to click through an email is Friday at 6am\n",
      "The day and time a user of age: 45, gender: male is most likely to click through an email is Friday at 6am\n",
      "The day and time a user of age: 50, gender: male is most likely to click through an email is Friday at 6am\n",
      "The day and time a user of age: 15, gender: female is most likely to click through an email is Monday at 6pm\n",
      "The day and time a user of age: 20, gender: female is most likely to click through an email is Monday at 6pm\n",
      "The day and time a user of age: 25, gender: female is most likely to click through an email is Monday at 6pm\n",
      "The day and time a user of age: 30, gender: female is most likely to click through an email is Monday at 6pm\n",
      "The day and time a user of age: 35, gender: female is most likely to click through an email is Friday at 6pm\n",
      "The day and time a user of age: 40, gender: female is most likely to click through an email is Friday at 6pm\n",
      "The day and time a user of age: 45, gender: female is most likely to click through an email is Friday at 6pm\n",
      "The day and time a user of age: 50, gender: female is most likely to click through an email is Friday at 6pm\n"
     ]
    }
   ],
   "source": [
    "# I ran through a bunch to see how the results look\n",
    "users_to_run_through_model = [[15, 'male'],\n",
    "                              [20, 'male'],\n",
    "                              [25, 'male'],\n",
    "                              [30, 'male'],\n",
    "                              [35, 'male'],\n",
    "                              [40, 'male'],\n",
    "                              [45, 'male'],\n",
    "                              [50, 'male'],\n",
    "                              [15, 'female'],\n",
    "                              [20, 'female'],\n",
    "                              [25, 'female'],\n",
    "                              [30, 'female'],\n",
    "                              [35, 'female'],\n",
    "                              [40, 'female'],\n",
    "                              [45, 'female'],\n",
    "                              [50, 'female']]\n",
    "\n",
    "for user in users_to_run_through_model:\n",
    "    evaluate_options(user[0], user[1], df_date_and_time_combos, model)"
   ]
  }
 ],
 "metadata": {
  "kernelspec": {
   "display_name": "Python 3",
   "language": "python",
   "name": "python3"
  },
  "language_info": {
   "codemirror_mode": {
    "name": "ipython",
    "version": 3
   },
   "file_extension": ".py",
   "mimetype": "text/x-python",
   "name": "python",
   "nbconvert_exporter": "python",
   "pygments_lexer": "ipython3",
   "version": "3.9.0"
  }
 },
 "nbformat": 4,
 "nbformat_minor": 4
}
